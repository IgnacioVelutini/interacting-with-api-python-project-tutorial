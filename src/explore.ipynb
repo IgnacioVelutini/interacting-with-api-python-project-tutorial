{
    "cells": [
        {
            "cell_type": "markdown",
            "metadata": {},
            "source": [
                "# Explore here"
            ]
        },
        {
            "cell_type": "code",
            "execution_count": 2,
            "metadata": {},
            "outputs": [
                {
                    "data": {
                        "text/plain": [
                            "True"
                        ]
                    },
                    "execution_count": 2,
                    "metadata": {},
                    "output_type": "execute_result"
                }
            ],
            "source": [
                "import os\n",
                "import pandas as pd\n",
                "import seaborn as sns\n",
                "from dotenv import load_dotenv\n",
                "\n",
                "# load the .env file variables\n",
                "load_dotenv()\n",
                "\n"
            ]
        },
        {
            "cell_type": "code",
            "execution_count": 3,
            "metadata": {},
            "outputs": [
                {
                    "name": "stdout",
                    "output_type": "stream",
                    "text": [
                        "Defaulting to user installation because normal site-packages is not writeable\n",
                        "Requirement already satisfied: spotipy in /home/vscode/.local/lib/python3.11/site-packages (2.23.0)\n",
                        "Requirement already satisfied: redis>=3.5.3 in /home/vscode/.local/lib/python3.11/site-packages (from spotipy) (5.0.7)\n",
                        "Requirement already satisfied: requests>=2.25.0 in /home/vscode/.local/lib/python3.11/site-packages (from spotipy) (2.27.1)\n",
                        "Requirement already satisfied: six>=1.15.0 in /home/vscode/.local/lib/python3.11/site-packages (from spotipy) (1.16.0)\n",
                        "Requirement already satisfied: urllib3>=1.26.0 in /home/vscode/.local/lib/python3.11/site-packages (from spotipy) (1.26.19)\n",
                        "Requirement already satisfied: certifi>=2017.4.17 in /home/vscode/.local/lib/python3.11/site-packages (from requests>=2.25.0->spotipy) (2024.6.2)\n",
                        "Requirement already satisfied: charset-normalizer~=2.0.0 in /home/vscode/.local/lib/python3.11/site-packages (from requests>=2.25.0->spotipy) (2.0.12)\n",
                        "Requirement already satisfied: idna<4,>=2.5 in /home/vscode/.local/lib/python3.11/site-packages (from requests>=2.25.0->spotipy) (3.7)\n",
                        "Note: you may need to restart the kernel to use updated packages.\n"
                    ]
                }
            ],
            "source": [
                "pip install spotipy\n"
            ]
        },
        {
            "cell_type": "code",
            "execution_count": 5,
            "metadata": {},
            "outputs": [
                {
                    "name": "stdout",
                    "output_type": "stream",
                    "text": [
                        "Client ID: 4b622dc361bd4c21be056739d17c0a20\n",
                        "Client Secret: 309250eee6a3434a94db6cd2e252b9c2\n"
                    ]
                }
            ],
            "source": [
                "from dotenv import load_dotenv\n",
                "import os\n",
                "\n",
                "# Load environment variables from .env\n",
                "load_dotenv()\n",
                "\n",
                "client_id = os.environ.get(\"CLIENT_ID\")\n",
                "client_secret = os.environ.get(\"CLIENT_SECRET\")\n",
                "\n",
                "print(f\"Client ID: {client_id}\")\n",
                "print(f\"Client Secret: {client_secret}\")\n"
            ]
        },
        {
            "cell_type": "code",
            "execution_count": 6,
            "metadata": {},
            "outputs": [
                {
                    "name": "stdout",
                    "output_type": "stream",
                    "text": [
                        "Successfully authenticated with Spotify API!\n"
                    ]
                }
            ],
            "source": [
                "import spotipy\n",
                "from spotipy.oauth2 import SpotifyClientCredentials\n",
                "from dotenv import load_dotenv\n",
                "import os\n",
                "\n",
                "# Load environment variables\n",
                "load_dotenv()\n",
                "\n",
                "client_id = os.environ.get(\"CLIENT_ID\")\n",
                "client_secret = os.environ.get(\"CLIENT_SECRET\")\n",
                "\n",
                "# Authenticate with Spotify\n",
                "sp = spotipy.Spotify(auth_manager=SpotifyClientCredentials(client_id=client_id, client_secret=client_secret))\n",
                "\n",
                "print(\"Successfully authenticated with Spotify API!\")\n"
            ]
        },
        {
            "cell_type": "code",
            "execution_count": 7,
            "metadata": {},
            "outputs": [
                {
                    "name": "stdout",
                    "output_type": "stream",
                    "text": [
                        "Song: Cruel Summer, Popularity: 92, Duration: 2.97 min\n",
                        "Song: Fortnight (feat. Post Malone), Popularity: 88, Duration: 3.82 min\n",
                        "Song: I Can Do It With a Broken Heart, Popularity: 86, Duration: 3.63 min\n",
                        "Song: august, Popularity: 87, Duration: 4.37 min\n",
                        "Song: Lover, Popularity: 86, Duration: 3.69 min\n",
                        "Song: cardigan, Popularity: 85, Duration: 3.99 min\n",
                        "Song: Anti-Hero, Popularity: 84, Duration: 3.34 min\n",
                        "Song: Guilty as Sin?, Popularity: 80, Duration: 4.24 min\n",
                        "Song: Don’t Blame Me, Popularity: 85, Duration: 3.94 min\n",
                        "Song: Down Bad, Popularity: 80, Duration: 4.35 min\n"
                    ]
                }
            ],
            "source": [
                "# Replace this with your favorite artist's ID\n",
                "artist_id = \"06HL4z0CvFAxyc27GXpf02\"  # Example: Taylor Swift\n",
                "\n",
                "# Fetch the artist's top tracks\n",
                "top_tracks = sp.artist_top_tracks(artist_id)\n",
                "\n",
                "# Extract and print song details (name, popularity, duration in minutes)\n",
                "songs = [{\n",
                "    \"name\": track['name'],\n",
                "    \"popularity\": track['popularity'],\n",
                "    \"duration_min\": track['duration_ms'] / 60000  # Convert duration from ms to minutes\n",
                "} for track in top_tracks['tracks'][:10]]  # Limit to top 10 tracks\n",
                "\n",
                "# Print the top 10 tracks\n",
                "for song in songs:\n",
                "    print(f\"Song: {song['name']}, Popularity: {song['popularity']}, Duration: {song['duration_min']:.2f} min\")\n"
            ]
        },
        {
            "cell_type": "code",
            "execution_count": 8,
            "metadata": {},
            "outputs": [
                {
                    "name": "stdout",
                    "output_type": "stream",
                    "text": [
                        "                              name  popularity  duration_min\n",
                        "0                     Cruel Summer          92      2.973767\n",
                        "1    Fortnight (feat. Post Malone)          88      3.816083\n",
                        "2  I Can Do It With a Broken Heart          86      3.633400\n",
                        "3                           august          87      4.365367\n",
                        "4                            Lover          86      3.688433\n",
                        "5                         cardigan          85      3.992667\n",
                        "6                        Anti-Hero          84      3.344833\n",
                        "7                   Guilty as Sin?          80      4.239417\n",
                        "8                   Don’t Blame Me          85      3.940217\n",
                        "9                         Down Bad          80      4.353800\n"
                    ]
                }
            ],
            "source": [
                "import pandas as pd\n",
                "\n",
                "# Convert the list of songs into a DataFrame\n",
                "df = pd.DataFrame(songs)\n",
                "\n",
                "# Display the DataFrame\n",
                "print(df)\n"
            ]
        },
        {
            "cell_type": "code",
            "execution_count": 9,
            "metadata": {},
            "outputs": [
                {
                    "name": "stdout",
                    "output_type": "stream",
                    "text": [
                        "Defaulting to user installation because normal site-packages is not writeable\n",
                        "Requirement already satisfied: matplotlib in /home/vscode/.local/lib/python3.11/site-packages (3.9.0)\n",
                        "Requirement already satisfied: contourpy>=1.0.1 in /home/vscode/.local/lib/python3.11/site-packages (from matplotlib) (1.2.1)\n",
                        "Requirement already satisfied: cycler>=0.10 in /home/vscode/.local/lib/python3.11/site-packages (from matplotlib) (0.12.1)\n",
                        "Requirement already satisfied: fonttools>=4.22.0 in /home/vscode/.local/lib/python3.11/site-packages (from matplotlib) (4.53.0)\n",
                        "Requirement already satisfied: kiwisolver>=1.3.1 in /home/vscode/.local/lib/python3.11/site-packages (from matplotlib) (1.4.5)\n",
                        "Requirement already satisfied: numpy>=1.23 in /home/vscode/.local/lib/python3.11/site-packages (from matplotlib) (2.1.1)\n",
                        "Requirement already satisfied: packaging>=20.0 in /home/vscode/.local/lib/python3.11/site-packages (from matplotlib) (24.1)\n",
                        "Requirement already satisfied: pillow>=8 in /home/vscode/.local/lib/python3.11/site-packages (from matplotlib) (10.3.0)\n",
                        "Requirement already satisfied: pyparsing>=2.3.1 in /home/vscode/.local/lib/python3.11/site-packages (from matplotlib) (3.1.2)\n",
                        "Requirement already satisfied: python-dateutil>=2.7 in /home/vscode/.local/lib/python3.11/site-packages (from matplotlib) (2.9.0.post0)\n",
                        "Requirement already satisfied: six>=1.5 in /home/vscode/.local/lib/python3.11/site-packages (from python-dateutil>=2.7->matplotlib) (1.16.0)\n",
                        "Note: you may need to restart the kernel to use updated packages.\n"
                    ]
                }
            ],
            "source": [
                "pip install matplotlib\n"
            ]
        },
        {
            "cell_type": "code",
            "execution_count": 10,
            "metadata": {},
            "outputs": [
                {
                    "data": {
                        "image/png": "[encoded data removed]",
                        "text/plain": [
                            "<Figure size 640x480 with 1 Axes>"
                        ]
                    },
                    "metadata": {},
                    "output_type": "display_data"
                }
            ],
            "source": [
                "import matplotlib.pyplot as plt\n",
                "\n",
                "# Create a scatter plot: Duration vs Popularity\n",
                "plt.scatter(df['duration_min'], df['popularity'])\n",
                "plt.title('Duration vs Popularity')\n",
                "plt.xlabel('Duration (minutes)')\n",
                "plt.ylabel('Popularity')\n",
                "plt.show()\n"
            ]
        }
    ],
    "metadata": {
        "kernelspec": {
            "display_name": "Python 3.8.13 64-bit ('3.8.13')",
            "language": "python",
            "name": "python3"
        },
        "language_info": {
            "codemirror_mode": {
                "name": "ipython",
                "version": 3
            },
            "file_extension": ".py",
            "mimetype": "text/x-python",
            "name": "python",
            "nbconvert_exporter": "python",
            "pygments_lexer": "ipython3",
            "version": "3.11.4"
        },
        "orig_nbformat": 4,
        "vscode": {
            "interpreter": {
                "hash": "110cc1dee26208153f2972f08a2ad52b6a56238dc66d48e87fb757ef2996db56"
            }
        }
    },
    "nbformat": 4,
    "nbformat_minor": 2
}
